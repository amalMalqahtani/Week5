{
  "cells": [
    {
      "cell_type": "markdown",
      "metadata": {
        "id": "view-in-github",
        "colab_type": "text"
      },
      "source": [
        "<a href=\"https://colab.research.google.com/github/amalMalqahtani/Week5/blob/main/Another_copy_of_Task_2_Convolutional_Neural_Networks_(CNN)_ipynb.ipynb\" target=\"_parent\"><img src=\"https://colab.research.google.com/assets/colab-badge.svg\" alt=\"Open In Colab\"/></a>"
      ]
    },
    {
      "cell_type": "markdown",
      "id": "69e7471b",
      "metadata": {
        "id": "69e7471b"
      },
      "source": [
        "# Exam on Convolutional Neural Networks (CNN)\n",
        "\n",
        "Welcome to the Convolutional Neural Networks (CNN) practical exam. In this exam, you will work on an image classification task to predict weather the parkinglot is occupied or empty. You are provided with a dataset of parkinglot images, and your task is to build, train, and evaluate a CNN model.\n",
        "\n",
        "---\n",
        "\n",
        "## Dataset Overview\n",
        "### **Dataset:**\n",
        "* Just run the command under the `Load Data` section to get the data downloaded and unzipped or you can access it [here](www.kaggle.com/datasets/khaledzsa/parkinglot-occupation)\n",
        "### **Dataset Name:** ParkingLot Occupation\n",
        "\n",
        "### **Description:**  \n",
        "The dataset contains images of labeld parkinglot images for classification purposes. Each image belongs to one of the 2 classes, representing the label.\n",
        "\n",
        "### **Labels:**\n",
        "* `empty`\n",
        "* `occupied`\n"
      ]
    },
    {
      "cell_type": "markdown",
      "id": "66c6f645",
      "metadata": {
        "id": "66c6f645"
      },
      "source": [
        "## Load Data\n",
        "Run the following command to get the data and unzip it, alternatively you can access the data [here](www.kaggle.com/datasets/khaledzsa/parkinglot-occupation)."
      ]
    },
    {
      "cell_type": "code",
      "execution_count": null,
      "id": "ee08de6b",
      "metadata": {
        "id": "ee08de6b"
      },
      "outputs": [],
      "source": [
        "#!kaggle datasets download -d khaledzsa/parkinglot-occupation\n",
        "#!unzip parkinglot-occupation.zip"
      ]
    },
    {
      "cell_type": "markdown",
      "id": "9bb9f30e",
      "metadata": {
        "id": "9bb9f30e"
      },
      "source": [
        "## Import Libraries"
      ]
    },
    {
      "cell_type": "code",
      "source": [
        "#inputs = keras.Input(shape=(None, None, 3))\n",
        "#processed = keras.layers.RandomCrop(width=128, height=128)(inputs)\n",
        "#conv = keras.layers.Conv2D(filters=32, kernel_size=3)(processed)\n",
        "#pooling = keras.layers.GlobalAveragePooling2D()(conv)\n",
        "#feature = keras.layers.Dense(10)(pooling)\n",
        "\n",
        "#full_model = keras.Model(inputs, feature)\n",
        "#backbone = keras.Model(processed, conv)\n",
        "#activations = keras.Model(conv, feature)\n"
      ],
      "metadata": {
        "id": "UTC1hsa1wwnf"
      },
      "id": "UTC1hsa1wwnf",
      "execution_count": null,
      "outputs": []
    },
    {
      "cell_type": "code",
      "source": [
        "from tensorflow import data as tf_data\n",
        "import matplotlib.pyplot as plt\n",
        "from keras.layers import Input\n",
        "from keras import ops\n",
        "import pandas as pd\n",
        "import seaborn as sns\n",
        "import os\n",
        "from keras.models import Model\n",
        "import numpy as np\n",
        "from keras import layers\n",
        "from keras import activations\n",
        "import keras\n",
        "from keras.layers import Dense, GlobalAveragePooling2D\n",
        "from keras.layers import Input"
      ],
      "metadata": {
        "id": "1HGE3qJeiUYM"
      },
      "id": "1HGE3qJeiUYM",
      "execution_count": null,
      "outputs": []
    },
    {
      "cell_type": "code",
      "source": [
        "#!unzip -q /content/parkinglot-occupation.zip\n",
        "!ls"
      ],
      "metadata": {
        "id": "t8h88OaAiYYY",
        "colab": {
          "base_uri": "https://localhost:8080/"
        },
        "outputId": "2c3a0d95-9922-4c6f-e372-f79f0356f545"
      },
      "id": "t8h88OaAiYYY",
      "execution_count": null,
      "outputs": [
        {
          "output_type": "stream",
          "name": "stdout",
          "text": [
            "ParkingLot_Occupation  parkinglot-occupation.zip  sample_data\n"
          ]
        }
      ]
    },
    {
      "cell_type": "code",
      "source": [
        "IMAGE_SIZE = (299, 299)"
      ],
      "metadata": {
        "id": "_ZkEGPx8mIR_"
      },
      "id": "_ZkEGPx8mIR_",
      "execution_count": null,
      "outputs": []
    },
    {
      "cell_type": "markdown",
      "id": "3aa9945d",
      "metadata": {
        "id": "3aa9945d"
      },
      "source": [
        "## Data Preprocessing\n",
        "In this section, preprocess the dataset by:\n",
        "- Loading the images from the file paths.\n",
        "- Resizing the images to a consistent size.\n",
        "- Normalizing pixel values.\n",
        "\n",
        "Add more if needed!"
      ]
    },
    {
      "cell_type": "markdown",
      "id": "541f3c2b",
      "metadata": {
        "id": "541f3c2b"
      },
      "source": [
        "## Data Splitting\n",
        "In this section, we will split our dataset into three parts:\n",
        "\n",
        "* `train` Folder: Training set (85%).\n",
        "* `train` Folder: Validation set (15%).\n",
        "* `test` Folder: Test set (100%)."
      ]
    },
    {
      "cell_type": "code",
      "source": [
        " # 3. Split into training and validation sets\n",
        "  #  train_size = int(len(df) * train_size)\n",
        "\n",
        "  #  training_data = {\n",
        " #       img_name: caption_data[img_name] for img_name in all_images[:train_size]  }\n",
        "  #  validation_data = {\n",
        "   #     img_name: caption_data[img_name] for img_name in all_images[train_size:]  }\n",
        "\n",
        "    # 4. Return the splits\n",
        "#    return training_data, validation_data"
      ],
      "metadata": {
        "id": "yfp1IC2hqelh"
      },
      "id": "yfp1IC2hqelh",
      "execution_count": null,
      "outputs": []
    },
    {
      "cell_type": "code",
      "source": [
        "import os\n",
        "import numpy as np\n",
        "import keras\n",
        "from keras import layers\n",
        "from tensorflow import data as tf_data\n",
        "import matplotlib.pyplot as plt\n"
      ],
      "metadata": {
        "id": "rTLNKnCIreTX"
      },
      "id": "rTLNKnCIreTX",
      "execution_count": null,
      "outputs": []
    },
    {
      "cell_type": "code",
      "source": [
        "image_size = (180, 180)\n",
        "batch_size = 128"
      ],
      "metadata": {
        "id": "QoSnEk15sK3V"
      },
      "id": "QoSnEk15sK3V",
      "execution_count": null,
      "outputs": []
    },
    {
      "cell_type": "code",
      "source": [
        "train_ds, val_ds = keras.utils.image_dataset_from_directory(\"/content/ParkingLot_Occupation\",\n",
        "    validation_split=0.2,\n",
        "    subset=\"both\",\n",
        "    seed=1337,\n",
        "    image_size=image_size,\n",
        "    batch_size=batch_size,)"
      ],
      "metadata": {
        "colab": {
          "base_uri": "https://localhost:8080/"
        },
        "id": "v78CgZiQsfOG",
        "outputId": "62aeed85-51be-435e-f293-adcff30642fa"
      },
      "id": "v78CgZiQsfOG",
      "execution_count": null,
      "outputs": [
        {
          "output_type": "stream",
          "name": "stdout",
          "text": [
            "Found 1726 files belonging to 2 classes.\n",
            "Using 1381 files for training.\n",
            "Using 345 files for validation.\n"
          ]
        }
      ]
    },
    {
      "cell_type": "code",
      "source": [
        "num_skipped = 0\n",
        "for folder_name in (\"empty\", \"occupied\"):\n",
        "    folder_path = os.path.join(\"img\", folder_name)\n",
        "    for fname in os.listdir(\"/content/ParkingLot_Occupation\"):\n",
        "        fpath = os.path.join(folder_path, fname)"
      ],
      "metadata": {
        "id": "uEO_e4pusqic"
      },
      "id": "uEO_e4pusqic",
      "execution_count": null,
      "outputs": []
    },
    {
      "cell_type": "code",
      "source": [
        "print(f\"Deleted {num_skipped} images.\")"
      ],
      "metadata": {
        "colab": {
          "base_uri": "https://localhost:8080/"
        },
        "id": "x3RYG7VAsByE",
        "outputId": "3484bd5c-d6ce-4f67-b255-539d76b195e3"
      },
      "id": "x3RYG7VAsByE",
      "execution_count": null,
      "outputs": [
        {
          "output_type": "stream",
          "name": "stdout",
          "text": [
            "Deleted 0 images.\n"
          ]
        }
      ]
    },
    {
      "cell_type": "code",
      "source": [
        "img = keras.utils.load_img(\"ParkingLot_Occupation/test/occupied/roi_057a5738ddb945019c790907275e7fb0_occupied.jpg\", target_size=image_size)\n",
        "plt.imshow(img)"
      ],
      "metadata": {
        "colab": {
          "base_uri": "https://localhost:8080/",
          "height": 471
        },
        "id": "0d6UD98Zs03r",
        "outputId": "e63f71db-1113-4b6a-b5ed-14778cad00b3"
      },
      "id": "0d6UD98Zs03r",
      "execution_count": null,
      "outputs": [
        {
          "output_type": "execute_result",
          "data": {
            "text/plain": [
              "<matplotlib.image.AxesImage at 0x7c41e020c910>"
            ]
          },
          "metadata": {},
          "execution_count": 78
        },
        {
          "output_type": "display_data",
          "data": {
            "text/plain": [
              "<Figure size 640x480 with 1 Axes>"
            ],
            "image/png": "[encoded data removed]"
          },
          "metadata": {}
        }
      ]
    },
    {
      "cell_type": "markdown",
      "id": "83974596",
      "metadata": {
        "id": "83974596"
      },
      "source": [
        "## Building the CNN Model\n",
        "In this section, define the architecture of the CNN model. The architecture may consist of:\n",
        "- Convolutional layers with max-pooling\n",
        "- Dropout layers\n",
        "- Flatten layer\n",
        "- Dense layers\n",
        "- Output layer\n",
        "\n",
        "Add and remove any of these as needed!"
      ]
    },
    {
      "cell_type": "code",
      "source": [
        "model.add(layers.Dense(64, activation=activations.relu))"
      ],
      "metadata": {
        "id": "bHkMrIT6f0cB"
      },
      "id": "bHkMrIT6f0cB",
      "execution_count": null,
      "outputs": []
    },
    {
      "cell_type": "code",
      "source": [
        "model = keras.Sequential()\n",
        "model.add(keras.Input(shape=(250, 250, 3)))  # 250x250 RGB images\n",
        "model.add(layers.Conv2D(32, 5, strides=2, activation=\"relu\"))\n",
        "model.add(layers.Conv2D(32, 3, activation=\"relu\"))\n",
        "model.add(layers.MaxPooling2D(3))\n",
        "\n",
        "model.summary()\n"
      ],
      "metadata": {
        "id": "5f9Qa1DhfaML"
      },
      "id": "5f9Qa1DhfaML",
      "execution_count": null,
      "outputs": []
    },
    {
      "cell_type": "code",
      "source": [
        "\n",
        "model.add(layers.Conv2D(32, 3, activation=\"relu\"))\n",
        "model.add(layers.Conv2D(32, 3, activation=\"relu\"))\n",
        "model.add(layers.MaxPooling2D(3))\n",
        "model.add(layers.Conv2D(32, 3, activation=\"relu\"))\n",
        "model.add(layers.Conv2D(32, 3, activation=\"relu\"))\n",
        "model.add(layers.MaxPooling2D(2))\n",
        "\n",
        "model.summary()\n",
        "\n",
        "#pooling.\n",
        "model.add(layers.GlobalMaxPooling2D())\n",
        "model.add(layers.Dense(10))\n"
      ],
      "metadata": {
        "id": "3PKp4bOCwL4Y"
      },
      "id": "3PKp4bOCwL4Y",
      "execution_count": null,
      "outputs": []
    },
    {
      "cell_type": "code",
      "execution_count": null,
      "id": "977da65a",
      "metadata": {
        "id": "977da65a"
      },
      "outputs": [],
      "source": [
        "keras.layers.Conv2D(\n",
        "    filters,\n",
        "    kernel_size,\n",
        "    strides=(1, 1),\n",
        "    padding=\"valid\",\n",
        "    data_format=None,\n",
        "    dilation_rate=(1, 1),\n",
        "    groups=1,\n",
        "    activation=None,\n",
        "    use_bias=True,\n",
        "    kernel_initializer=\"glorot_uniform\",\n",
        "    bias_initializer=\"zeros\",\n",
        "    kernel_regularizer=None,\n",
        "    bias_regularizer=None,\n",
        "    activity_regularizer=None,\n",
        "    kernel_constraint=None,\n",
        "    bias_constraint=None,\n",
        "    **kwargs\n",
        ")"
      ]
    },
    {
      "cell_type": "markdown",
      "id": "fe1c0940",
      "metadata": {
        "id": "fe1c0940"
      },
      "source": [
        "## Training the Model\n",
        "Train the CNN model using the training data and validate it on the validation set."
      ]
    },
    {
      "cell_type": "code",
      "execution_count": null,
      "id": "ce31faf9",
      "metadata": {
        "id": "ce31faf9"
      },
      "outputs": [],
      "source": [
        "def train_model(train_data: tf.data.Dataset, test_data: tf.data.Dataset) -> dict:\n",
        "    model = keras.Sequential(\n",
        "        [\n",
        "            layers.Conv2D(32, (3, 3), activation=\"relu\"),\n",
        "            layers.MaxPooling2D((2, 2)),\n",
        "            layers.Dropout(0.2),\n",
        "            layers.Conv2D(32, (3, 3), activation=\"relu\"),\n",
        "            layers.MaxPooling2D((2, 2)),\n",
        "            layers.Dropout(0.2),\n",
        "            layers.Conv2D(32, (3, 3), activation=\"relu\"),\n",
        "            layers.GlobalAveragePooling2D(),\n",
        "            layers.Dense(64, activation=\"relu\"),\n",
        "            layers.Dropout(0.2),\n",
        "            layers.Dense(10, activation=\"softmax\"),\n",
        "        ]\n",
        "    )\n",
        "\n",
        "    model.compile(\n",
        "        optimizer=\"adam\", loss=\"sparse_categorical_crossentropy\", metrics=[\"accuracy\"]\n",
        "    )\n",
        "\n",
        "\n",
        "    history = model.fit(train_data, epochs=2, validation_data=test_data)\n",
        "\n",
        "    print(f\"Model accuracy on test data: {model.evaluate(test_data)[1] * 100:.2f}%\")\n",
        "\n",
        "    return history.history"
      ]
    },
    {
      "cell_type": "code",
      "source": [
        "\n",
        "def prepare_dataset(image, label):\n",
        "\n",
        "    image = tf.cast(image, tf.float32) / 255.0\n",
        "    image = tf.expand_dims(image, axis=-1)\n",
        "    image = tf.image.resize(image, (32, 32))\n",
        "\n",
        "    return image, label\n"
      ],
      "metadata": {
        "id": "q7ww5k4GwHCh"
      },
      "id": "q7ww5k4GwHCh",
      "execution_count": null,
      "outputs": []
    },
    {
      "cell_type": "code",
      "source": [
        "base_model = keras.applications.Xception(\n",
        "    weights='imagenet',\n",
        "    include_top=False,\n",
        "    pooling='avg')\n",
        "\n",
        "base_model.trainable = False\n",
        "\n",
        "model = keras.Sequential([\n",
        "    base_model,\n",
        "    layers.Dense(1000),\n",
        "])\n",
        "\n",
        "model.compile(...)\n",
        "model.fit(...)\n"
      ],
      "metadata": {
        "id": "zQnrB62SwIkk"
      },
      "id": "zQnrB62SwIkk",
      "execution_count": null,
      "outputs": []
    },
    {
      "cell_type": "markdown",
      "id": "25ad1b22",
      "metadata": {
        "id": "25ad1b22"
      },
      "source": [
        "## Evaluate the Model\n",
        "Evaluate the performance of the model on the test set."
      ]
    },
    {
      "cell_type": "code",
      "source": [
        "history = train_model(train_data, test_data)"
      ],
      "metadata": {
        "id": "M9bTw-SigAKK"
      },
      "id": "M9bTw-SigAKK",
      "execution_count": null,
      "outputs": []
    },
    {
      "cell_type": "code",
      "source": [
        "# Fit the model\n",
        "caption_model.fit(\n",
        "    train_dataset,\n",
        "    epochs=EPOCHS,\n",
        "    validation_data=valid_dataset,\n",
        "    callbacks=[early_stopping],\n",
        ")"
      ],
      "metadata": {
        "id": "6x3R4pTFvh-J"
      },
      "id": "6x3R4pTFvh-J",
      "execution_count": null,
      "outputs": []
    },
    {
      "cell_type": "markdown",
      "id": "a37fca33",
      "metadata": {
        "id": "a37fca33"
      },
      "source": [
        "## Make Predictions\n",
        "Use the trained model to make predictions on new or unseen parkinglot images."
      ]
    },
    {
      "cell_type": "markdown",
      "id": "f1ab3608",
      "metadata": {
        "id": "f1ab3608"
      },
      "source": [
        "if you need new, we prepared some data for you [here](www.kaggle.com/datasets/khaledzsa/parkinglot-occupation), or you can simply run the following command to get the data and unzip it.\n",
        "\n",
        "<small>Note: please note that the file contain MetaData to tell you what each image contains <b>THIS IS JUST FOR YOU TO MAKE SURE</b></smmall>"
      ]
    },
    {
      "cell_type": "markdown",
      "id": "8d59c9e4",
      "metadata": {
        "id": "8d59c9e4"
      },
      "source": [
        "If you ran the command above, you should have a file called ParkingLot_Occupation in your current directory. which contains the testing dataset.\n",
        "If you ran the command above <span style='color:red;'>DON'T RUN THIS CELL</span>"
      ]
    },
    {
      "cell_type": "code",
      "execution_count": null,
      "id": "be46ba26",
      "metadata": {
        "id": "be46ba26"
      },
      "outputs": [],
      "source": [
        "Model.predict(x, batch_size=None, verbose=\"auto\", steps=None, callbacks=None)"
      ]
    },
    {
      "cell_type": "markdown",
      "id": "8430600d",
      "metadata": {
        "id": "8430600d"
      },
      "source": [
        "## Model Performance Visualization\n",
        "Visualize performance metrics such as accuracy and loss over the epochs."
      ]
    },
    {
      "cell_type": "code",
      "execution_count": null,
      "id": "50624cfe",
      "metadata": {
        "id": "50624cfe"
      },
      "outputs": [],
      "source": [
        "data_augmentation_layers = [\n",
        "    layers.RandomFlip(\"horizontal\"),\n",
        "    layers.RandomRotation(0.1),\n",
        "]\n",
        "\n",
        "\n",
        "def data_augmentation(images):\n",
        "    for layer in data_augmentation_layers:\n",
        "        images = layer(images)\n",
        "    return images"
      ]
    },
    {
      "cell_type": "code",
      "source": [
        "plt.figure(figsize=(10, 10))\n",
        "for images, _ in train_ds.take(1):\n",
        "    for i in range(9):\n",
        "        augmented_images = data_augmentation(images)\n",
        "        ax = plt.subplot(3, 3, i + 1)\n",
        "        plt.imshow(np.array(augmented_images[0]).astype(\"uint8\"))\n",
        "        plt.axis(\"off\")\n"
      ],
      "metadata": {
        "id": "Q2fdD3C3qI51"
      },
      "id": "Q2fdD3C3qI51",
      "execution_count": null,
      "outputs": []
    },
    {
      "cell_type": "markdown",
      "id": "8d4f3348",
      "metadata": {
        "id": "8d4f3348"
      },
      "source": [
        "## Save the Model\n",
        "Save the trained CNN model for submission."
      ]
    },
    {
      "cell_type": "code",
      "execution_count": null,
      "id": "fe6b2df0",
      "metadata": {
        "id": "fe6b2df0"
      },
      "outputs": [],
      "source": [
        "with open(\"history.json\", \"w\") as fp:\n",
        "    json.dump(history, fp)"
      ]
    },
    {
      "cell_type": "code",
      "source": [
        "Model.save(filepath, overwrite=True, zipped=None, **kwargs)"
      ],
      "metadata": {
        "id": "FyrnAhZtzhDv"
      },
      "id": "FyrnAhZtzhDv",
      "execution_count": null,
      "outputs": []
    },
    {
      "cell_type": "markdown",
      "id": "ed90995f",
      "metadata": {
        "id": "ed90995f"
      },
      "source": [
        "## Project Questions:\n",
        "\n",
        "1. **Data Preprocessing**: Explain why you chose your specific data preprocessing techniques (e.g., resizing images, normalization, data augmentation). How do these preprocessing steps improve the performance of your CNN model?\n",
        "2. **Model Architecture**: Describe the architecture of your CNN model (e.g., number of convolutional layers, kernel sizes, pooling layers). Why did you choose this structure, and how do you expect each layer to contribute to feature extraction?\n",
        "3. **Activation Functions**: Justify your choice of activation functions. How do they influence the training and output of your CNN?\n",
        "4. **Training Process**: Discuss your choice of batch size, number of epochs, and optimizer. How did these decisions impact the training process and the convergence of the model?\n",
        "5. **Loss Function and Metrics**: Explain why you chose the specific loss function and evaluation metrics for this classification task. How do they align with the goal of correctly classifying parkinglot?\n",
        "6. **Regularization Techniques**: If you used regularization methods like dropout or batch normalization, explain why you implemented them and how they helped prevent overfitting in your model.\n",
        "7. **Model Evaluation**: Justify the method you used to evaluate your model's performance on the test set. Why did you select these evaluation techniques, and what insights did they provide about your model's accuracy and generalization ability?\n",
        "8. **Model Visualization**: Explain the significance of the performance visualizations (e.g., accuracy and loss curves). What do they tell you about your model's training process and its ability to generalize?\n",
        "9. **Overfitting and Underfitting**: Analyze whether the model encountered any overfitting or underfitting during training. What strategies could you implement to mitigate these issues?"
      ]
    },
    {
      "cell_type": "markdown",
      "id": "02e7f114",
      "metadata": {
        "id": "02e7f114"
      },
      "source": [
        "### Answer Here:"
      ]
    }
  ],
  "metadata": {
    "language_info": {
      "name": "python"
    },
    "colab": {
      "provenance": [],
      "gpuType": "T4",
      "include_colab_link": true
    },
    "kernelspec": {
      "name": "python3",
      "display_name": "Python 3"
    },
    "accelerator": "GPU"
  },
  "nbformat": 4,
  "nbformat_minor": 5
}